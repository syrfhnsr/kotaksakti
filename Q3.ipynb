{
 "cells": [
  {
   "cell_type": "raw",
   "metadata": {},
   "source": [
    "Question 3(a)"
   ]
  },
  {
   "cell_type": "code",
   "execution_count": 22,
   "metadata": {},
   "outputs": [],
   "source": [
    "#import mysql.connector as mysql\n",
    "#from mysql.connector import error\n",
    "import pyodbc\n",
    "import pandas as pd"
   ]
  },
  {
   "cell_type": "code",
   "execution_count": 2,
   "metadata": {},
   "outputs": [],
   "source": [
    "conn = pyodbc.connect('Driver={SQL Server};'\n",
    "                      'Server=DESKTOP-D283T0R\\SQLEXPRESS;'\n",
    "                      'Database=interviewpython;'\n",
    "                      'Trusted_Connection=yes;')\n",
    "\n",
    "cursor = conn.cursor()\n",
    "#cursor.execute('SELECT * FROM customers')\n",
    "\n",
    "#for i in cursor:\n",
    "    #print(i)"
   ]
  },
  {
   "cell_type": "code",
   "execution_count": 3,
   "metadata": {},
   "outputs": [],
   "source": [
    "cursor.execute('''\n",
    "                CREATE TABLE customers (CustomerId INT PRIMARY KEY IDENTITY(1,1) ,CustomerName VARCHAR(100) \n",
    "                ,CustomerEmail VARCHAR(100) ,CustomerTel VARCHAR(15) , created_at DATETIME, updated_at DATETIME)\n",
    "    \n",
    "                ''')\n",
    "conn.commit()"
   ]
  },
  {
   "cell_type": "code",
   "execution_count": 6,
   "metadata": {},
   "outputs": [
    {
     "name": "stdout",
     "output_type": "stream",
     "text": [
      "(1, 'Irfan Bakti', 'irfan88@example.com', '+0123456789', datetime.datetime(2019, 8, 7, 8, 13, 21), datetime.datetime(2019, 8, 7, 8, 13, 21))\n",
      "(2, 'Jack Smmith', 'jack.smmith@acme.io', '+0132456781', datetime.datetime(2019, 8, 7, 8, 13, 21), datetime.datetime(2019, 8, 7, 8, 13, 21))\n",
      "(3, 'Nazir', ' ', '+01185434012', datetime.datetime(2019, 8, 7, 8, 13, 21), datetime.datetime(2019, 8, 7, 8, 13, 21))\n",
      "(4, 'Faiz Ma', 'faiz.ma@jholow.cn', '+019772002', datetime.datetime(2019, 8, 7, 8, 13, 21), datetime.datetime(2019, 8, 7, 8, 13, 21))\n",
      "(5, 'Isham Rais', 'isham@pmo.gov.my', '+0135482020', datetime.datetime(2019, 8, 7, 8, 13, 21), datetime.datetime(2019, 8, 7, 8, 13, 21))\n",
      "(6, 'Shanon Teoh', 'shahnon.teoh@st.com.sg', ' ', datetime.datetime(2019, 8, 7, 8, 13, 21), datetime.datetime(2019, 8, 7, 8, 13, 21))\n"
     ]
    }
   ],
   "source": [
    "cursor.execute('SELECT * FROM customers')\n",
    "\n",
    "for i in cursor:\n",
    "    print(i)"
   ]
  },
  {
   "cell_type": "code",
   "execution_count": 8,
   "metadata": {},
   "outputs": [],
   "source": [
    "cursor.execute('''\n",
    "        CREATE TABLE invoices (InvoicesId INT PRIMARY KEY IDENTITY(1,1) ,InvoicesNumber INT \n",
    ",InvoicesSub_Total DECIMAL(5,2) ,InvoicesTax_Total DECIMAL(5,2) , InvoicesTotal DECIMAL(5,2), Customer_ID INT, Inv_created_at DATETIME, Inv_updated_at DATETIME)\n",
    "               ''')\n",
    "\n",
    "conn.commit()"
   ]
  },
  {
   "cell_type": "code",
   "execution_count": 9,
   "metadata": {},
   "outputs": [],
   "source": [
    "cursor.execute('''\n",
    "                INSERT INTO invoices(InvoicesNumber,InvoicesSub_Total,InvoicesTax_Total,InvoicesTotal, Customer_ID,\n",
    "                Inv_created_at,Inv_updated_at) VALUES \n",
    "                (20190001,30.00,0.00,30.00,1, '2019-08-07 08:13:21', '2019-08-07 08:13:2'),\n",
    "                (20190002,150.00,0.00,150.00,2, '2019-08-07 08:13:21', '2019-08-07 08:13:2'),\n",
    "                (20190003,30.00,0.00,30.00,2, '2019-08-07 08:13:21', '2019-08-07 08:13:2'),\n",
    "                (20190004,55.00,0.00,55.00,3, '2019-08-07 08:13:21', '2019-08-07 08:13:2'),\n",
    "                (20190005,450.00,0.00,0.00,6, '2019-08-07 08:13:21', '2019-08-07 08:13:2')\n",
    "    \n",
    "                ''')\n",
    "conn.commit()"
   ]
  },
  {
   "cell_type": "code",
   "execution_count": 10,
   "metadata": {},
   "outputs": [
    {
     "name": "stdout",
     "output_type": "stream",
     "text": [
      "(1, 20190001, Decimal('30.00'), Decimal('0.00'), Decimal('30.00'), 1, datetime.datetime(2019, 8, 7, 8, 13, 21), datetime.datetime(2019, 8, 7, 8, 13, 2))\n",
      "(2, 20190002, Decimal('150.00'), Decimal('0.00'), Decimal('150.00'), 2, datetime.datetime(2019, 8, 7, 8, 13, 21), datetime.datetime(2019, 8, 7, 8, 13, 2))\n",
      "(3, 20190003, Decimal('30.00'), Decimal('0.00'), Decimal('30.00'), 2, datetime.datetime(2019, 8, 7, 8, 13, 21), datetime.datetime(2019, 8, 7, 8, 13, 2))\n",
      "(4, 20190004, Decimal('55.00'), Decimal('0.00'), Decimal('55.00'), 3, datetime.datetime(2019, 8, 7, 8, 13, 21), datetime.datetime(2019, 8, 7, 8, 13, 2))\n",
      "(5, 20190005, Decimal('450.00'), Decimal('0.00'), Decimal('0.00'), 6, datetime.datetime(2019, 8, 7, 8, 13, 21), datetime.datetime(2019, 8, 7, 8, 13, 2))\n"
     ]
    }
   ],
   "source": [
    "cursor.execute('SELECT * FROM invoices')\n",
    "\n",
    "for i in cursor:\n",
    "    print(i)"
   ]
  },
  {
   "cell_type": "code",
   "execution_count": 11,
   "metadata": {},
   "outputs": [],
   "source": [
    "cursor.execute('''\n",
    "        CREATE TABLE invoice_lines (InvLinesId INT PRIMARY KEY IDENTITY(1,1) ,description VARCHAR(100),\n",
    "        Unit_Price DECIMAL(5,2), Quantity INT, Sub_Total DECIMAL(5,2), \n",
    "        Tax_Total DECIMAL(5,2), Total DECIMAL(5,2), Tax_ID INT, Sku_ID INT, Invoice_ID INT)\n",
    "               ''')\n",
    "\n",
    "conn.commit()"
   ]
  },
  {
   "cell_type": "code",
   "execution_count": 13,
   "metadata": {},
   "outputs": [],
   "source": [
    "cursor.execute('''\n",
    "                INSERT INTO invoice_lines (Description, Unit_Price, Quantity, Sub_Total, Tax_Total,Total,Sku_ID,Invoice_ID) VALUES \n",
    "                ('Book #1',30.00,1,30.00,0.00,30.00,1,1),\n",
    "                ('Book #2',25.00,4,100.00,0.00,100.00,2,2),\n",
    "                ('Book #3',50.00,1,50.00,0.00,50.00,3,2),\n",
    "                ('Book #1',30.00,1,30.00,0.00,30.00,1,3),\n",
    "                ('Book #1',30.00,1,30.00,0.00,30.00,1,4),\n",
    "                ('Book #2',25.00,1,25.00,0.00,25.00,2,4),\n",
    "                ('Book #1',30.00,5,150.00,0.00,150.00,1,5),\n",
    "                ('Book #3',50.00,6,300.00,0.00,300.00,3,5)\n",
    "    \n",
    "                ''')\n",
    "conn.commit()"
   ]
  },
  {
   "cell_type": "code",
   "execution_count": 14,
   "metadata": {},
   "outputs": [
    {
     "name": "stdout",
     "output_type": "stream",
     "text": [
      "(1, 'Book #1', Decimal('30.00'), 1, Decimal('30.00'), Decimal('0.00'), Decimal('30.00'), None, 1, 1)\n",
      "(2, 'Book #2', Decimal('25.00'), 4, Decimal('100.00'), Decimal('0.00'), Decimal('100.00'), None, 2, 2)\n",
      "(3, 'Book #3', Decimal('50.00'), 1, Decimal('50.00'), Decimal('0.00'), Decimal('50.00'), None, 3, 2)\n",
      "(4, 'Book #1', Decimal('30.00'), 1, Decimal('30.00'), Decimal('0.00'), Decimal('30.00'), None, 1, 3)\n",
      "(5, 'Book #1', Decimal('30.00'), 1, Decimal('30.00'), Decimal('0.00'), Decimal('30.00'), None, 1, 4)\n",
      "(6, 'Book #2', Decimal('25.00'), 1, Decimal('25.00'), Decimal('0.00'), Decimal('25.00'), None, 2, 4)\n",
      "(7, 'Book #1', Decimal('30.00'), 5, Decimal('150.00'), Decimal('0.00'), Decimal('150.00'), None, 1, 5)\n",
      "(8, 'Book #3', Decimal('50.00'), 6, Decimal('300.00'), Decimal('0.00'), Decimal('300.00'), None, 3, 5)\n"
     ]
    }
   ],
   "source": [
    "cursor.execute('SELECT * FROM invoice_lines')\n",
    "\n",
    "for i in cursor:\n",
    "    print(i)"
   ]
  },
  {
   "cell_type": "raw",
   "metadata": {},
   "source": [
    "# Question 3b)"
   ]
  },
  {
   "cell_type": "code",
   "execution_count": 19,
   "metadata": {},
   "outputs": [
    {
     "name": "stdout",
     "output_type": "stream",
     "text": [
      "(2, 6)\n",
      "(6, 11)\n"
     ]
    }
   ],
   "source": [
    "cursor.execute('''\n",
    "                WITH CTE AS \n",
    "(\n",
    "  SELECT a.Customer_ID, SUM(b.Quantity) AS Quantity\n",
    " FROM invoices AS a\n",
    " LEFT JOIN invoice_lines AS b ON b.Invoice_ID = a.InvoicesId\n",
    " GROUP BY a.Customer_ID\n",
    ")\n",
    "\n",
    "\n",
    "select a.customer_ID, a.Quantity\n",
    "FROM CTE AS a\n",
    "WHERE a.Quantity > 5\n",
    "    \n",
    "                ''')\n",
    "for i in cursor:\n",
    "    print(i)"
   ]
  },
  {
   "cell_type": "raw",
   "metadata": {},
   "source": [
    "# Question 3(c)"
   ]
  },
  {
   "cell_type": "code",
   "execution_count": 20,
   "metadata": {},
   "outputs": [
    {
     "name": "stdout",
     "output_type": "stream",
     "text": [
      "(4, 'Faiz Ma')\n",
      "(5, 'Isham Rais')\n"
     ]
    }
   ],
   "source": [
    "cursor.execute('''\n",
    "   SELECT c.CustomerId, c.CustomerName\n",
    "   FROM customers AS c\n",
    "   LEFT JOIN invoices AS i ON i.Customer_ID = c.CustomerId\n",
    "   WHERE i.InvoicesId IS NULL\n",
    "    \n",
    "                ''')\n",
    "for i in cursor:\n",
    "    print(i)"
   ]
  },
  {
   "cell_type": "raw",
   "metadata": {},
   "source": [
    "# Question 3(d)"
   ]
  },
  {
   "cell_type": "code",
   "execution_count": 21,
   "metadata": {
    "scrolled": true
   },
   "outputs": [
    {
     "name": "stdout",
     "output_type": "stream",
     "text": [
      "('Book #1', 'Irfan Bakti')\n",
      "('Book #2', 'Jack Smmith')\n",
      "('Book #3', 'Jack Smmith')\n",
      "('Book #1', 'Jack Smmith')\n",
      "('Book #1', 'Nazir')\n",
      "('Book #2', 'Nazir')\n",
      "('Book #1', 'Shanon Teoh')\n",
      "('Book #3', 'Shanon Teoh')\n"
     ]
    }
   ],
   "source": [
    "cursor.execute('''\n",
    "    SELECT invoice_lines.description, customers.CustomerName\n",
    "    FROM invoice_lines\n",
    "    JOIN invoices \n",
    "    ON invoice_lines.Invoice_ID = invoices.InvoicesId\n",
    "    JOIN customers\n",
    "    ON customers.CustomerId = invoices.Customer_ID;\n",
    "    \n",
    "                ''')\n",
    "for i in cursor:\n",
    "    print(i)"
   ]
  },
  {
   "cell_type": "raw",
   "metadata": {},
   "source": [
    "# Question 3(extraction)"
   ]
  },
  {
   "cell_type": "code",
   "execution_count": 24,
   "metadata": {},
   "outputs": [],
   "source": [
    "sql_query = pd.read_sql_query(''' \n",
    "                              select * from interviewpython.dbo.customers\n",
    "                              '''\n",
    "                              ,conn) \n",
    "df = pd.DataFrame(sql_query)# place 'r' before the path name"
   ]
  },
  {
   "cell_type": "code",
   "execution_count": 25,
   "metadata": {},
   "outputs": [],
   "source": [
    "sql_query = pd.read_sql_query(''' \n",
    "                              select * from interviewpython.dbo.invoices\n",
    "                              '''\n",
    "                              ,conn) \n",
    "\n",
    "df = pd.DataFrame(sql_query)\n",
    "df.to_csv (r'D:\\Users\\Syarifah\\Documents\\SQL Server Management Studio\\invoices.csv', index = False) "
   ]
  },
  {
   "cell_type": "code",
   "execution_count": 26,
   "metadata": {},
   "outputs": [],
   "source": [
    "sql_query = pd.read_sql_query(''' \n",
    "                              select * from interviewpython.dbo.invoice_lines\n",
    "                              '''\n",
    "                              ,conn) \n",
    "\n",
    "df = pd.DataFrame(sql_query)\n",
    "df.to_csv (r'D:\\Users\\Syarifah\\Documents\\SQL Server Management Studio\\invoice_lines.csv', index = False) "
   ]
  },
  {
   "cell_type": "code",
   "execution_count": null,
   "metadata": {},
   "outputs": [],
   "source": []
  }
 ],
 "metadata": {
  "kernelspec": {
   "display_name": "Python 3",
   "language": "python",
   "name": "python3"
  },
  "language_info": {
   "codemirror_mode": {
    "name": "ipython",
    "version": 3
   },
   "file_extension": ".py",
   "mimetype": "text/x-python",
   "name": "python",
   "nbconvert_exporter": "python",
   "pygments_lexer": "ipython3",
   "version": "3.8.3"
  }
 },
 "nbformat": 4,
 "nbformat_minor": 4
}
